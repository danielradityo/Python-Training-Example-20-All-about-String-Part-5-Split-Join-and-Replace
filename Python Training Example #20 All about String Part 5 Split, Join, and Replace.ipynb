{
 "cells": [
  {
   "cell_type": "markdown",
   "metadata": {},
   "source": [
    "# Python Training Example #20 All about String Part 5 Split, Join, and Replace"
   ]
  },
  {
   "cell_type": "markdown",
   "metadata": {},
   "source": [
    "## Split"
   ]
  },
  {
   "cell_type": "code",
   "execution_count": 6,
   "metadata": {},
   "outputs": [
    {
     "name": "stdout",
     "output_type": "stream",
     "text": [
      "['Burger', 'Pizza', 'Hotdog']\n"
     ]
    }
   ],
   "source": [
    "# .split() can split one single string variable into a list\n",
    "food = 'Burger and Pizza and Hotdog'\n",
    "print(food.split(' and ')) #--> will split a string variable into a list"
   ]
  },
  {
   "cell_type": "markdown",
   "metadata": {},
   "source": [
    "## Join"
   ]
  },
  {
   "cell_type": "code",
   "execution_count": 10,
   "metadata": {},
   "outputs": [
    {
     "name": "stdout",
     "output_type": "stream",
     "text": [
      "Soda more expensive than Juice more expensive than Mineral Water\n"
     ]
    }
   ],
   "source": [
    "# .join() can join several string to one single string\n",
    "drink = ['Soda', 'Juice', 'Mineral Water']\n",
    "jointer = ' more expensive than '\n",
    "price = jointer.join(drink)\n",
    "print(price) #--> will joint several string to one single string"
   ]
  },
  {
   "cell_type": "markdown",
   "metadata": {},
   "source": [
    "## Replace"
   ]
  },
  {
   "cell_type": "code",
   "execution_count": 13,
   "metadata": {},
   "outputs": [
    {
     "name": "stdout",
     "output_type": "stream",
     "text": [
      "Juice is the best from other drinks, because Juice is healtier, and also Juice is cheaper\n"
     ]
    }
   ],
   "source": [
    "# .replace() can replace sub-string with another sub-string\n",
    "statement = 'Soda is the best from other drinks, because Soda is healtier, and also Soda is cheaper'\n",
    "print(statement.replace('Soda', 'Juice')) #--> will replace sub-string soda with sub-string juice"
   ]
  },
  {
   "cell_type": "code",
   "execution_count": null,
   "metadata": {},
   "outputs": [],
   "source": []
  }
 ],
 "metadata": {
  "kernelspec": {
   "display_name": "Python 3",
   "language": "python",
   "name": "python3"
  },
  "language_info": {
   "codemirror_mode": {
    "name": "ipython",
    "version": 3
   },
   "file_extension": ".py",
   "mimetype": "text/x-python",
   "name": "python",
   "nbconvert_exporter": "python",
   "pygments_lexer": "ipython3",
   "version": "3.8.5"
  }
 },
 "nbformat": 4,
 "nbformat_minor": 4
}
